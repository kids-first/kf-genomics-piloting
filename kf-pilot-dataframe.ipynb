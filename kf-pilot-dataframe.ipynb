{
 "cells": [
  {
   "cell_type": "code",
   "execution_count": 1,
   "metadata": {
    "collapsed": false,
    "deletable": true,
    "editable": true
   },
   "outputs": [],
   "source": [
    "import os\n",
    "import pandas as pd\n",
    "import sevenbridges as sbg"
   ]
  },
  {
   "cell_type": "code",
   "execution_count": 2,
   "metadata": {
    "collapsed": true,
    "deletable": true,
    "editable": true
   },
   "outputs": [],
   "source": [
    "token = os.environ['CAVATICA_ZYK_TOKEN']\n",
    "url = 'https://cavatica-api.sbgenomics.com/v2/'\n",
    "base = 'yuankun/kf-genomics-harmonization-pilot'\n",
    "bcm    = base + '-bcm'\n",
    "hudson = base + '-hudsonalpha'\n",
    "broad  = base + '-broad'\n",
    "washu  = base + '-washu'\n",
    "workflow = base + '/kf-alignment-cavatica'"
   ]
  },
  {
   "cell_type": "code",
   "execution_count": 3,
   "metadata": {
    "collapsed": true,
    "deletable": true,
    "editable": true
   },
   "outputs": [],
   "source": [
    "api = sbg.Api(url=url, token=token)\n",
    "app = api.apps.get(id=workflow)"
   ]
  },
  {
   "cell_type": "code",
   "execution_count": 4,
   "metadata": {
    "collapsed": false,
    "deletable": true,
    "editable": true
   },
   "outputs": [],
   "source": [
    "def get_step_time(step, task):\n",
    "    for job in task.jobs:\n",
    "        if step in job.name:\n",
    "            try:\n",
    "                step_start\n",
    "            except:\n",
    "                step_start = job.start_time\n",
    "                step_end = job.end_time\n",
    "            # handle scatter start/end time\n",
    "            step_start = job.start_time if job.start_time < step_start else step_start\n",
    "            step_end = job.end_time if job.end_time > step_end else step_end     \n",
    "    return (step_end - step_start).total_seconds()\n",
    "\n",
    "def get_task_df(project):\n",
    "    tasks = api.tasks.query(project=project).all()\n",
    "    data = {}\n",
    "    for task in tasks:\n",
    "        if task.batch: # only check batch running\n",
    "            for child in task.get_batch_children().all():\n",
    "                child_detail = child.get_execution_details()\n",
    "                try:\n",
    "                    runtime = (child.end_time - child.start_time).total_seconds()\n",
    "                    data[child.name] = {\n",
    "                        'batch': task.name,\n",
    "                        'runtime': runtime,\n",
    "                        'cost': child.price.amount,\n",
    "                        'status': child_detail.status\n",
    "                    }\n",
    "                    for step in app.raw['steps']:\n",
    "                        data[child.name][step['id']] = get_step_time(step['id'], child_detail)\n",
    "                except:\n",
    "                    continue\n",
    "    df = pd.DataFrame.from_dict(data, orient='index')\n",
    "    return df"
   ]
  },
  {
   "cell_type": "code",
   "execution_count": 5,
   "metadata": {
    "collapsed": false,
    "deletable": true,
    "editable": true
   },
   "outputs": [],
   "source": [
    "df_broad = get_task_df(broad)\n",
    "df_washu = get_task_df(washu)\n",
    "df_hudson = get_task_df(hudson)"
   ]
  },
  {
   "cell_type": "code",
   "execution_count": 6,
   "metadata": {
    "collapsed": false,
    "deletable": true,
    "editable": true
   },
   "outputs": [],
   "source": [
    "df_merge = pd.concat([df_broad, df_washu, df_hudson])\n",
    "df_merge.to_csv('data/task.csv')"
   ]
  },
  {
   "cell_type": "code",
   "execution_count": 7,
   "metadata": {
    "collapsed": false,
    "deletable": true,
    "editable": true
   },
   "outputs": [
    {
     "data": {
      "text/plain": [
       "[u'bwa_mem',\n",
       " u'checkcontamination',\n",
       " u'createsequencegrouping',\n",
       " u'gatk_applybqsr',\n",
       " u'gatk_baserecalibrator',\n",
       " u'gatk_gatherbqsrreports',\n",
       " u'gatk_haplotypecaller',\n",
       " u'gatk_validategvcf',\n",
       " u'getbasename',\n",
       " u'picard_calculatereadgroupchecksum',\n",
       " u'picard_collectaggregationmetrics',\n",
       " u'picard_collectgvcfcallingmetrics',\n",
       " u'picard_collectqualityyieldmetrics',\n",
       " u'picard_collectreadgroupbamqualitymetrics',\n",
       " u'picard_collectunsortedreadgroupbamqualitymetrics',\n",
       " u'picard_collectwgsmetrics',\n",
       " u'picard_gatherbamfiles',\n",
       " u'picard_intervallisttools',\n",
       " u'picard_markduplicates',\n",
       " u'picard_mergevcfs',\n",
       " u'picard_revertsam',\n",
       " u'picard_sortsam',\n",
       " u'samtools_coverttocram',\n",
       " u'verifybamid']"
      ]
     },
     "execution_count": 7,
     "metadata": {},
     "output_type": "execute_result"
    }
   ],
   "source": [
    "steps = [ step['id'] for step in app.raw['steps']]\n",
    "steps"
   ]
  },
  {
   "cell_type": "code",
   "execution_count": null,
   "metadata": {
    "collapsed": true,
    "deletable": true,
    "editable": true
   },
   "outputs": [],
   "source": []
  }
 ],
 "metadata": {
  "kernelspec": {
   "display_name": "Python 2",
   "language": "python",
   "name": "python2"
  },
  "language_info": {
   "codemirror_mode": {
    "name": "ipython",
    "version": 2
   },
   "file_extension": ".py",
   "mimetype": "text/x-python",
   "name": "python",
   "nbconvert_exporter": "python",
   "pygments_lexer": "ipython2",
   "version": "2.7.11"
  }
 },
 "nbformat": 4,
 "nbformat_minor": 2
}
